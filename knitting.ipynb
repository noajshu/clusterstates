{
 "cells": [
  {
   "cell_type": "markdown",
   "metadata": {},
   "source": [
    "### Cluster state knitting\n",
    "Let's build some cluster states out of elementary gates."
   ]
  },
  {
   "cell_type": "code",
   "execution_count": 2,
   "metadata": {},
   "outputs": [],
   "source": [
    "%matplotlib inline\n",
    "import numpy as np\n",
    "import qutip as qt\n",
    "import matplotlib\n",
    "import matplotlib.pyplot as plt\n",
    "from functools import reduce\n",
    "import networkx as nx\n",
    "\n",
    "\n",
    "def show_graph(V, E):\n",
    "    G = nx.Graph()\n",
    "    G.graph['dpi'] = 40\n",
    "    G.add_nodes_from(V)\n",
    "    G.add_edges_from(E)\n",
    "    return nx.draw(G, nx.spring_layout(G), labels={i: str(i) for i in V})"
   ]
  },
  {
   "cell_type": "code",
   "execution_count": 3,
   "metadata": {},
   "outputs": [],
   "source": [
    "from qutip.qip.gates import swap\n",
    "\n",
    "X = qt.sigmax()\n",
    "Y = qt.sigmay()\n",
    "Z = qt.sigmaz()\n",
    "CZ = qt.qip.gates.controlled_gate(Z)\n",
    "def cz(i=0, j=1, N=4):\n",
    "    return qt.qip.gates.controlled_gate(\n",
    "        Z, N=N, control=i, target=j\n",
    "    )\n",
    "\n",
    "CNOT = qt.qip.gates.cnot()\n",
    "Id = X**2\n",
    "SZ = CZ * swap()\n",
    "def sz(i=0, j=1, N=4):\n",
    "    return cz(i=i, j=j, N=N) * swap(\n",
    "        N=N, targets=[i, j])\n",
    "\n",
    "ket_0 = qt.Qobj(np.array([1, 0]).reshape((2, 1)))\n",
    "ket_plus = qt.hadamard_transform() * ket_0\n",
    "\n",
    "def graph_state_unitary(n, E):\n",
    "    # n = |V|\n",
    "    # E = [(i, j), ...]\n",
    "    return reduce(\n",
    "        lambda a, b: a*b,\n",
    "        (qt.qip.gates.controlled_gate(\n",
    "            Z, N=n,\n",
    "            control=i, target=j\n",
    "        )\n",
    "        for i, j in E)\n",
    "    )"
   ]
  },
  {
   "cell_type": "markdown",
   "metadata": {},
   "source": [
    "### 1D cluster state generation"
   ]
  },
  {
   "cell_type": "code",
   "execution_count": 4,
   "metadata": {},
   "outputs": [
    {
     "name": "stdout",
     "output_type": "stream",
     "text": [
      "False\n",
      "True\n"
     ]
    },
    {
     "data": {
      "image/png": "[encoded data removed]",
      "text/plain": [
       "<matplotlib.figure.Figure at 0x10c3e70f0>"
      ]
     },
     "metadata": {},
     "output_type": "display_data"
    }
   ],
   "source": [
    "# desired graph edges\n",
    "E = [(0, 1), (1, 2), (2, 3)]\n",
    "show_graph(range(4), E)\n",
    "\n",
    "# initial state\n",
    "Psi = qt.tensor(4*[ket_plus])\n",
    "\n",
    "# cluster-state generation procedure\n",
    "procedure_1D = sz(0, 1) * sz(0, 2) * sz(0, 3)\n",
    "\n",
    "print(procedure_1D == graph_state_unitary(4, E))\n",
    "print(procedure_1D * Psi == graph_state_unitary(4, E) * Psi)"
   ]
  },
  {
   "cell_type": "markdown",
   "metadata": {},
   "source": [
    "^^ \n",
    "the procedure yields the desired state, but does not apply the same unitary operation"
   ]
  },
  {
   "cell_type": "markdown",
   "metadata": {},
   "source": [
    "### 2D cluster state generation"
   ]
  },
  {
   "cell_type": "code",
   "execution_count": 5,
   "metadata": {},
   "outputs": [
    {
     "name": "stdout",
     "output_type": "stream",
     "text": [
      "False\n",
      "True\n"
     ]
    },
    {
     "data": {
      "image/png": "[encoded data removed]",
      "text/plain": [
       "<matplotlib.figure.Figure at 0x10c484668>"
      ]
     },
     "metadata": {},
     "output_type": "display_data"
    }
   ],
   "source": [
    "# use 5 qubits this time\n",
    "# we will use qubit index 4 as flying qubit\n",
    "N = 5\n",
    "\n",
    "# desired graph edges (square)\n",
    "E = [(0, 1), (1, 2), (2, 3), (3, 0)]\n",
    "show_graph(range(N), E)\n",
    "\n",
    "# initial state\n",
    "Psi = qt.tensor(N*[ket_plus])\n",
    "\n",
    "# cluster-state generation procedure\n",
    "procedure_2D = swap(targets=[4, 3], N=N) * cz(i=4, j=0, N=N) * cz(i=4, j=2, N=N) * \\\n",
    "    swap(targets=[4, 1], N=N) * cz(i=4, j=0, N=N) * cz(i=4, j=2, N=N)\n",
    "\n",
    "print(procedure_2D == graph_state_unitary(5, E))\n",
    "print(procedure_2D * Psi == graph_state_unitary(5, E) * Psi)"
   ]
  },
  {
   "cell_type": "markdown",
   "metadata": {},
   "source": [
    "### 3D cluster state generation"
   ]
  },
  {
   "cell_type": "code",
   "execution_count": 6,
   "metadata": {},
   "outputs": [
    {
     "name": "stdout",
     "output_type": "stream",
     "text": [
      "False\n",
      "False\n"
     ]
    },
    {
     "data": {
      "image/png": "[encoded data removed]",
      "text/plain": [
       "<matplotlib.figure.Figure at 0x10c5aea90>"
      ]
     },
     "metadata": {},
     "output_type": "display_data"
    }
   ],
   "source": [
    "N = 9\n",
    "\n",
    "f = 8\n",
    "\n",
    "# desired graph edges (cube)\n",
    "E = [(0, 3),\n",
    " (0, 5),\n",
    " (0, 7),\n",
    " (1, 2),\n",
    " (1, 5),\n",
    " (1, 7),\n",
    " (2, 4),\n",
    " (2, 6),\n",
    " (3, 4),\n",
    " (3, 6),\n",
    " (4, 5),\n",
    " (6, 7)]\n",
    "\n",
    "show_graph(range(N), E)\n",
    "\n",
    "# initial state\n",
    "Psi = qt.tensor(N*[ket_plus])\n",
    "\n",
    "# cluster-state generation procedure\n",
    "# 1, 2, 6, 7\n",
    "lower_square = swap(targets=[f, 6], N=N) * cz(i=f, j=7, N=N) * cz(i=f, j=2, N=N) * \\\n",
    "    swap(targets=[f, 1], N=N) * cz(i=f, j=7, N=N) * cz(i=f, j=2, N=N)\n",
    "# 3 - (6, 4, 0)\n",
    "upper_corner_1 = swap(targets=[f, 3], N=N) * cz(i=f, j=6, N=N) * cz(i=f, j=4, N=N) * \\\n",
    "    cz(i=f, j=0, N=N)\n",
    "\n",
    "# 5 - (1, 4, 0)\n",
    "upper_corner_2 = swap(targets=[f, 5], N=N) * cz(i=f, j=1, N=N) * cz(i=f, j=4, N=N) * \\\n",
    "    cz(i=f, j=0, N=N)\n",
    "\n",
    "# I'm not sure how to connect these last missing edges\n",
    "## 2 - 4\n",
    "# bar_1 = \n",
    "## 0 - 7\n",
    "# bar_2 = \n",
    "\n",
    "procedure_3D = upper_corner_2 * upper_corner_1 * lower_square\n",
    "\n",
    "print(procedure_3D == graph_state_unitary(9, E))\n",
    "print(procedure_3D * Psi == graph_state_unitary(9, E) * Psi)"
   ]
  },
  {
   "cell_type": "markdown",
   "metadata": {},
   "source": [
    "### Error propagation in the 2D cluster state procedure"
   ]
  },
  {
   "cell_type": "code",
   "execution_count": 31,
   "metadata": {},
   "outputs": [
    {
     "name": "stdout",
     "output_type": "stream",
     "text": [
      "True\n",
      "False\n",
      "False\n"
     ]
    },
    {
     "data": {
      "image/png": "[encoded data removed]",
      "text/plain": [
       "<matplotlib.figure.Figure at 0x10d030e10>"
      ]
     },
     "metadata": {},
     "output_type": "display_data"
    }
   ],
   "source": [
    "N = 5\n",
    "# flying qubit index\n",
    "f = 4\n",
    "\n",
    "# desired graph edges (square)\n",
    "E = [(0, 1), (1, 2), (2, 3), (3, 0)]\n",
    "show_graph(range(N), E)\n",
    "\n",
    "# initial state\n",
    "Psi = qt.tensor(N*[ket_plus])\n",
    "\n",
    "\n",
    "e = qt.tensor([X if i == f else Id for i in range(N)])\n",
    "\n",
    "# cluster-state generation procedure\n",
    "procedure_2D_error = swap(targets=[f, 3], N=N) * cz(i=f, j=0, N=N) * cz(i=f, j=2, N=N) * \\\n",
    "    swap(targets=[f, 1], N=N) * \\\n",
    "    e * \\\n",
    "    cz(i=f, j=0, N=N) * cz(i=f, j=2, N=N)\n",
    "\n",
    "X3 = qt.tensor([X if i == 3 else Id for i in range(N)])\n",
    "\n",
    "print(X3 * procedure_2D_error * Psi == graph_state_unitary(N, E) * Psi)\n",
    "print(X3 * procedure_2D_error == procedure_2D)\n",
    "print(X3 * procedure_2D_error == graph_state_unitary(N, E))"
   ]
  },
  {
   "cell_type": "markdown",
   "metadata": {},
   "source": [
    "- Error $\\sigma_x$ on $f$ just before its first SWAP(f, 3) just amounts to a X on 3.\n",
    "- This is unsurprising -- more interesting case is when 3 then continues the pattern\n",
    "\n",
    "### Knitting a larger 2D cluster state with X error:"
   ]
  },
  {
   "cell_type": "code",
   "execution_count": 187,
   "metadata": {},
   "outputs": [
    {
     "name": "stdout",
     "output_type": "stream",
     "text": [
      "True\n",
      "False\n",
      "True\n"
     ]
    },
    {
     "data": {
      "image/png": "[encoded data removed]",
      "text/plain": [
       "<matplotlib.figure.Figure at 0x10d186e10>"
      ]
     },
     "metadata": {},
     "output_type": "display_data"
    }
   ],
   "source": [
    "N = 10\n",
    "# flying qubit index\n",
    "f = 9\n",
    "\n",
    "E = [(0, 1), (0, 2), (1, 3), (4, 2),\n",
    "     (3, 5), (5, 7), (7, 6),\n",
    "     (6, 4),\n",
    "     (2, 8), (8, 1), (8, 5), (8, 6)]\n",
    "\n",
    "show_graph(range(N), E)\n",
    "\n",
    "# initial state\n",
    "Psi = qt.tensor(N*[ket_plus])\n",
    "\n",
    "\n",
    "e = qt.tensor([X if i == f else Id for i in range(N)])\n",
    "\n",
    "knit = lambda i, j, k: swap(targets=[f, j], N=N) * cz(i=f, j=i, N=N) * cz(i=f, j=k, N=N)\n",
    "procedure = knit(6, 7, 5) * knit(4, 6, 8) * knit(3, 5, 8) * knit(2, 8, 1) *\\\n",
    "    knit(2, 0, 1) *\\\n",
    "    swap(targets=[3, f], N=N) * cz(f, 1, N) *\\\n",
    "    swap(targets=[4, f], N=N) * cz(f, 2, N)\n",
    "\n",
    "print(procedure * Psi == graph_state_unitary(N, E) * Psi)\n",
    "\n",
    "X8 = qt.tensor([X if i == 8 else Id for i in range(N)])\n",
    "procedure_with_error = knit(6, 7, 5) * knit(4, 6, 8) * knit(3, 5, 8) *\\\n",
    "    X8 *\\\n",
    "    knit(2, 8, 1) *\\\n",
    "    knit(2, 0, 1) *\\\n",
    "    swap(targets=[3, f], N=N) * cz(f, 1, N) *\\\n",
    "    swap(targets=[4, f], N=N) * cz(f, 2, N)\n",
    "\n",
    "print(procedure_with_error * Psi == graph_state_unitary(N, E) * Psi)\n",
    "X0 = qt.tensor([X if i == 0 else Id for i in range(N)])\n",
    "print(X0 * procedure_with_error * Psi == graph_state_unitary(N, E) * Psi)"
   ]
  },
  {
   "cell_type": "markdown",
   "metadata": {},
   "source": [
    "#### The $\\sigma_x^{(8)}$ error is propagated to a local $\\sigma_x^{(0)}$ error at the end of the circuit!\n",
    "- Let's try all possible errors"
   ]
  },
  {
   "cell_type": "code",
   "execution_count": 194,
   "metadata": {},
   "outputs": [
    {
     "name": "stdout",
     "output_type": "stream",
     "text": [
      "19 sequential SWAP and CZ gates in procedure\n",
      "29 distict local pauli error target states\n",
      "47 distinct local pauli error during procedure final output states\n",
      "local pauli error during procedure ⊆ local pauli error after procedure is False\n",
      "there are 18 distinct procedure output syndromes that ARE NOT local pauli,\n",
      " 29 distinct procedure output syndromes that ARE local pauli\n"
     ]
    }
   ],
   "source": [
    "from collections import defaultdict\n",
    "\n",
    "def canonical_globalphase(psi):\n",
    "    # rotate state back by phase of\n",
    "    # first nonzero state coefficient\n",
    "    for i in range(psi.dims[0][0]):\n",
    "        coeff = psi.extract_states(i).full()[0][0]\n",
    "        if coeff != 0:\n",
    "            theta = np.angle(coeff)\n",
    "            return qt.qip.globalphase(-theta, N=N) * psi\n",
    "    raise ValueError('state is 0')\n",
    "\n",
    "knit_ops = lambda i, j, k: [swap(targets=[f, j], N=N), cz(i=f, j=i, N=N), cz(i=f, j=k, N=N)]\n",
    "procedure_ops = knit_ops(6, 7, 5) + knit_ops(4, 6, 8) + knit_ops(3, 5, 8) + knit_ops(2, 8, 1) +\\\n",
    "    knit_ops(2, 0, 1) + [\n",
    "        swap(targets=[3, f], N=N), cz(f, 1, N), \n",
    "        swap(targets=[4, f], N=N), cz(f, 2, N)\n",
    "    ]\n",
    "\n",
    "knit_op_names = lambda i, j, k: ['SWAP_%s%s' % (f, j), 'CZ_%s%s' % (f, i), 'CZ_%s%s' % (f, k)]\n",
    "procedure_op_names = knit_op_names(6, 7, 5) + knit_op_names(4, 6, 8) + knit_op_names(3, 5, 8) + knit_op_names(2, 8, 1) +\\\n",
    "    knit_op_names(2, 0, 1) + [\n",
    "        'SWAP_%s%s' % (3, f),\n",
    "        'CZ_%s%s' % (f, 1),\n",
    "        'SWAP_%s%s' % (4, f),\n",
    "        'CZ_%s%s' % (f, 2)\n",
    "    ]\n",
    "\n",
    "assert len(procedure_ops) == len(procedure_op_names)\n",
    "\n",
    "print(len(procedure_ops), 'sequential SWAP and CZ gates in procedure')\n",
    "assert reduce(lambda a, b: a*b,  procedure_ops) == procedure\n",
    "\n",
    "target_state = procedure * Psi\n",
    "target_state_modulo_local_pauli = set()\n",
    "# correct output state\n",
    "target_state_modulo_local_pauli.add(\n",
    "    (procedure * Psi).full().tostring()\n",
    ")\n",
    "# all possible local errors\n",
    "for sig in [X, Y, Z]:\n",
    "    for i in range(N):\n",
    "        err = qt.tensor([\n",
    "            sig if j==i else Id\n",
    "            for j in range(N)\n",
    "        ])\n",
    "        state = err * target_state\n",
    "        state = canonical_globalphase(state)\n",
    "        target_state_modulo_local_pauli.add(\n",
    "            state.full().tostring()\n",
    "        )\n",
    "\n",
    "print(len(target_state_modulo_local_pauli), 'distict local pauli error target states')\n",
    "\n",
    "single_procedure_error_out_states = defaultdict(list)\n",
    "for sig, name in [(X, 'X'), (Y, 'Y'), (Z, 'Z')]:\n",
    "    for i in range(N):\n",
    "        for t in range(len(procedure_ops) + 1):\n",
    "            err = qt.tensor([\n",
    "                sig if j==i else Id\n",
    "                for j in range(N)\n",
    "            ])\n",
    "#             assert list(reversed(\n",
    "#                 list(reversed(procedure_ops))[:t] +\n",
    "#                 [err] +\n",
    "#                 list(reversed(procedure_ops))[t:]\n",
    "#             )) == procedure_ops[:-t+1] + [err] + procedure_ops[-t+1:], 'array indexing bug'\n",
    "            state = reduce(\n",
    "                lambda a, b: a*b,\n",
    "                list(reversed(\n",
    "                    list(reversed(procedure_ops))[:t] +\n",
    "                    [err] +\n",
    "                    list(reversed(procedure_ops))[t:]\n",
    "                ))\n",
    "            ) * Psi\n",
    "            state = canonical_globalphase(state)\n",
    "            syndrome = (name, i, t)\n",
    "            single_procedure_error_out_states[\n",
    "                state.full().tostring()\n",
    "            ].append(syndrome)\n",
    "print(\n",
    "    len(set(single_procedure_error_out_states.keys())),\n",
    "    'distinct local pauli error during procedure final output states'\n",
    ")\n",
    "print(\n",
    "    'local pauli error during procedure ⊆ local pauli error after procedure is',\n",
    "    set(single_procedure_error_out_states.keys()).issubset(target_state_modulo_local_pauli)\n",
    ")\n",
    "print(\n",
    "    'there are',\n",
    "    len(set(single_procedure_error_out_states.keys()).difference(\n",
    "        target_state_modulo_local_pauli)),\n",
    "    'distinct procedure output syndromes that ARE NOT local pauli,\\n',\n",
    "    len(set(single_procedure_error_out_states.keys()).intersection(\n",
    "        target_state_modulo_local_pauli)),\n",
    "    'distinct procedure output syndromes that ARE local pauli',\n",
    ")\n",
    "# bad and good are poor names\n",
    "# I mean the bad states are the ones where\n",
    "# the local error hypothesis does not hold.\n",
    "bad_states = [\n",
    "    (qt.Qobj(np.frombuffer(state)), state)\n",
    "    for state in set(single_procedure_error_out_states.keys()).difference(\n",
    "        target_state_modulo_local_pauli\n",
    "    )\n",
    "]\n",
    "good_states = [\n",
    "    (qt.Qobj(np.frombuffer(state)), state)\n",
    "    for state in set(single_procedure_error_out_states.keys()).intersection(\n",
    "        target_state_modulo_local_pauli\n",
    "    )\n",
    "]"
   ]
  },
  {
   "cell_type": "code",
   "execution_count": 195,
   "metadata": {},
   "outputs": [
    {
     "name": "stdout",
     "output_type": "stream",
     "text": [
      "Info: qubit 9 is the flying qubit\n",
      "This op sequence knits the 2D cluster state:\n",
      "CZ_92, t=0\n",
      "SWAP_49, t=1\n",
      "CZ_91, t=2\n",
      "SWAP_39, t=3\n",
      "CZ_91, t=4\n",
      "CZ_92, t=5\n",
      "SWAP_90, t=6\n",
      "CZ_91, t=7\n",
      "CZ_92, t=8\n",
      "SWAP_98, t=9\n",
      "CZ_98, t=10\n",
      "CZ_93, t=11\n",
      "SWAP_95, t=12\n",
      "CZ_98, t=13\n",
      "CZ_94, t=14\n",
      "SWAP_96, t=15\n",
      "CZ_95, t=16\n",
      "CZ_96, t=17\n",
      "SWAP_97, t=18\n",
      "These 71 errors during procedure do not map to the target state mod a local pauli, up to a global phase:\n",
      "Y_2, t=1\n",
      "Y_9, t=1\n",
      "Y_2, t=2\n",
      "Y_4, t=2\n",
      "Y_1, t=3\n",
      "Y_9, t=3\n",
      "Y_2, t=3\n",
      "Y_4, t=3\n",
      "Y_1, t=4\n",
      "Y_3, t=4\n",
      "Y_2, t=4\n",
      "Y_4, t=4\n",
      "Y_3, t=5\n",
      "Y_2, t=5\n",
      "Y_4, t=5\n",
      "Y_9, t=5\n",
      "X_1, t=5\n",
      "Y_1, t=5\n",
      "Y_3, t=6\n",
      "Y_2, t=6\n",
      "Y_4, t=6\n",
      "X_2, t=6\n",
      "X_1, t=6\n",
      "Y_1, t=6\n",
      "Y_3, t=7\n",
      "Y_2, t=7\n",
      "Y_4, t=7\n",
      "X_2, t=7\n",
      "X_1, t=7\n",
      "Y_1, t=7\n",
      "Y_9, t=8\n",
      "Y_3, t=8\n",
      "Y_2, t=8\n",
      "Y_4, t=8\n",
      "X_2, t=8\n",
      "Y_3, t=9\n",
      "Y_9, t=9\n",
      "Y_4, t=9\n",
      "Y_3, t=10\n",
      "Y_8, t=10\n",
      "Y_4, t=10\n",
      "Y_3, t=11\n",
      "X_8, t=11\n",
      "Y_8, t=11\n",
      "Y_4, t=11\n",
      "Y_9, t=11\n",
      "X_8, t=12\n",
      "Y_8, t=12\n",
      "Y_4, t=12\n",
      "Y_9, t=12\n",
      "X_9, t=12\n",
      "X_8, t=13\n",
      "Y_8, t=13\n",
      "Y_4, t=13\n",
      "Y_5, t=13\n",
      "X_5, t=13\n",
      "Y_9, t=14\n",
      "Y_4, t=14\n",
      "Y_5, t=14\n",
      "X_5, t=14\n",
      "X_9, t=15\n",
      "Y_5, t=15\n",
      "X_5, t=15\n",
      "Y_9, t=15\n",
      "X_6, t=16\n",
      "Y_5, t=16\n",
      "X_5, t=16\n",
      "Y_6, t=16\n",
      "X_6, t=17\n",
      "Y_9, t=17\n",
      "Y_6, t=17\n",
      "These 529 errors during procedure DO map to \n",
      "the target state mod a local pauli, \n",
      "up to a global phase:\n",
      "['Y_4, t=0', 'Z_4, t=0', 'Y_3, t=0', 'Z_3, t=0', 'Y_7, t=0', 'Z_7, t=0', 'Y_5, t=0', 'Z_5, t=0', 'Y_9, t=0', 'Z_9, t=0', 'Y_1, t=0', 'Z_1, t=0', 'Y_2, t=0', 'Z_2, t=0', 'X_0, t=0', 'X_1, t=0', 'X_2, t=0', 'X_3, t=0', 'X_4, t=0', 'X_5, t=0', 'X_6, t=0', 'X_7, t=0', 'X_8, t=0', 'X_9, t=0', 'Y_6, t=0', 'Z_6, t=0', 'Y_0, t=0', 'Z_0, t=0', 'Y_8, t=0', 'Z_8, t=0', 'Y_4, t=1', 'Z_4, t=1', 'Y_3, t=1', 'Z_3, t=1', 'Y_7, t=1', 'Z_7, t=1', 'Y_5, t=1', 'Z_5, t=1', 'X_2, t=1', 'Z_9, t=1', 'Y_1, t=1', 'Z_1, t=1', 'X_9, t=1', 'Z_2, t=1', 'X_0, t=1', 'X_1, t=1', 'X_3, t=1', 'X_4, t=1', 'X_5, t=1', 'X_6, t=1', 'X_7, t=1', 'X_8, t=1', 'Y_6, t=1', 'Z_6, t=1', 'Y_0, t=1', 'Z_0, t=1', 'Y_8, t=1', 'Z_8, t=1', 'Y_9, t=2', 'Z_9, t=2', 'Y_3, t=2', 'Z_3, t=2', 'Y_7, t=2', 'Z_7, t=2', 'Y_5, t=2', 'Z_5, t=2', 'X_2, t=2', 'Z_4, t=2', 'Y_1, t=2', 'Z_1, t=2', 'X_4, t=2', 'Z_2, t=2', 'X_0, t=2', 'X_1, t=2', 'X_3, t=2', 'X_5, t=2', 'X_6, t=2', 'X_7, t=2', 'X_8, t=2', 'X_9, t=2', 'Y_6, t=2', 'Z_6, t=2', 'Y_0, t=2', 'Z_0, t=2', 'Y_8, t=2', 'Z_8, t=2', 'X_1, t=3', 'Z_9, t=3', 'Y_3, t=3', 'Z_3, t=3', 'Y_7, t=3', 'Z_7, t=3', 'Y_5, t=3', 'Z_5, t=3', 'X_2, t=3', 'Z_4, t=3', 'X_9, t=3', 'Z_1, t=3', 'X_4, t=3', 'Z_2, t=3', 'X_0, t=3', 'X_3, t=3', 'X_5, t=3', 'X_6, t=3', 'X_7, t=3', 'X_8, t=3', 'Y_6, t=3', 'Z_6, t=3', 'Y_0, t=3', 'Z_0, t=3', 'Y_8, t=3', 'Z_8, t=3', 'X_1, t=4', 'Z_3, t=4', 'Y_9, t=4', 'Z_9, t=4', 'Y_7, t=4', 'Z_7, t=4', 'Y_5, t=4', 'Z_5, t=4', 'X_2, t=4', 'Z_4, t=4', 'X_3, t=4', 'Z_1, t=4', 'X_4, t=4', 'Z_2, t=4', 'X_0, t=4', 'X_5, t=4', 'X_6, t=4', 'X_7, t=4', 'X_8, t=4', 'X_9, t=4', 'Y_6, t=4', 'Z_6, t=4', 'Y_0, t=4', 'Z_0, t=4', 'Y_8, t=4', 'Z_8, t=4', 'Z_3, t=5', 'Z_9, t=5', 'Y_7, t=5', 'Z_7, t=5', 'Y_5, t=5', 'Z_5, t=5', 'X_2, t=5', 'Z_4, t=5', 'X_3, t=5', 'X_9, t=5', 'Z_1, t=5', 'X_4, t=5', 'Z_2, t=5', 'X_0, t=5', 'X_5, t=5', 'X_6, t=5', 'X_7, t=5', 'X_8, t=5', 'Y_6, t=5', 'Z_6, t=5', 'Y_0, t=5', 'Z_0, t=5', 'Y_8, t=5', 'Z_8, t=5', 'Z_3, t=6', 'Y_9, t=6', 'Z_9, t=6', 'Y_7, t=6', 'Z_7, t=6', 'Y_5, t=6', 'Z_5, t=6', 'Z_4, t=6', 'X_3, t=6', 'Z_1, t=6', 'X_4, t=6', 'Z_2, t=6', 'X_9, t=6', 'X_0, t=6', 'X_5, t=6', 'X_6, t=6', 'X_7, t=6', 'X_8, t=6', 'Y_6, t=6', 'Z_6, t=6', 'Y_0, t=6', 'Z_0, t=6', 'Y_8, t=6', 'Z_8, t=6', 'Z_3, t=7', 'Y_0, t=7', 'Z_0, t=7', 'Y_7, t=7', 'Z_7, t=7', 'Y_5, t=7', 'Z_5, t=7', 'Z_4, t=7', 'X_3, t=7', 'Z_1, t=7', 'X_4, t=7', 'Z_2, t=7', 'X_0, t=7', 'X_5, t=7', 'X_6, t=7', 'X_7, t=7', 'X_8, t=7', 'X_9, t=7', 'Y_6, t=7', 'Z_6, t=7', 'Y_9, t=7', 'Z_9, t=7', 'Y_8, t=7', 'Z_8, t=7', 'Z_3, t=8', 'Y_0, t=8', 'Z_0, t=8', 'Y_7, t=8', 'Z_7, t=8', 'Y_5, t=8', 'Z_5, t=8', 'X_1, t=8', 'Z_4, t=8', 'X_3, t=8', 'X_9, t=8', 'Z_1, t=8', 'X_4, t=8', 'Z_2, t=8', 'X_0, t=8', 'X_5, t=8', 'X_6, t=8', 'X_7, t=8', 'X_8, t=8', 'Y_6, t=8', 'Z_6, t=8', 'Z_9, t=8', 'Y_1, t=8', 'Y_8, t=8', 'Z_8, t=8', 'Z_3, t=9', 'Y_0, t=9', 'Z_0, t=9', 'Y_2, t=9', 'Y_7, t=9', 'Z_7, t=9', 'Y_5, t=9', 'Z_5, t=9', 'X_2, t=9', 'X_1, t=9', 'Z_4, t=9', 'X_3, t=9', 'Z_1, t=9', 'X_4, t=9', 'Z_2, t=9', 'X_0, t=9', 'X_9, t=9', 'X_5, t=9', 'X_6, t=9', 'X_7, t=9', 'X_8, t=9', 'Y_6, t=9', 'Z_6, t=9', 'Z_9, t=9', 'Y_1, t=9', 'Y_8, t=9', 'Z_8, t=9', 'Z_3, t=10', 'Y_0, t=10', 'Z_0, t=10', 'Y_2, t=10', 'Y_7, t=10', 'Z_7, t=10', 'Y_5, t=10', 'Z_5, t=10', 'X_2, t=10', 'X_1, t=10', 'Z_4, t=10', 'X_3, t=10', 'Z_1, t=10', 'X_4, t=10', 'Z_2, t=10', 'X_0, t=10', 'X_8, t=10', 'X_5, t=10', 'X_6, t=10', 'X_7, t=10', 'X_9, t=10', 'Y_6, t=10', 'Z_6, t=10', 'Z_8, t=10', 'Y_1, t=10', 'Y_9, t=10', 'Z_9, t=10', 'Z_3, t=11', 'Y_0, t=11', 'Z_0, t=11', 'Y_2, t=11', 'Y_7, t=11', 'Z_7, t=11', 'Y_5, t=11', 'Z_5, t=11', 'X_2, t=11', 'X_1, t=11', 'Z_4, t=11', 'X_3, t=11', 'Z_1, t=11', 'X_4, t=11', 'Z_2, t=11', 'X_0, t=11', 'X_5, t=11', 'X_6, t=11', 'X_7, t=11', 'Y_6, t=11', 'Z_6, t=11', 'X_9, t=11', 'Z_8, t=11', 'Y_1, t=11', 'Z_9, t=11', 'Z_3, t=12', 'Y_0, t=12', 'Z_0, t=12', 'Y_3, t=12', 'Y_2, t=12', 'Y_7, t=12', 'Z_7, t=12', 'Y_5, t=12', 'Z_5, t=12', 'X_2, t=12', 'X_1, t=12', 'Z_4, t=12', 'Z_1, t=12', 'X_4, t=12', 'Z_2, t=12', 'X_0, t=12', 'X_5, t=12', 'X_6, t=12', 'X_7, t=12', 'Y_6, t=12', 'Z_6, t=12', 'Z_8, t=12', 'Y_1, t=12', 'X_3, t=12', 'Z_9, t=12', 'Z_3, t=13', 'Y_0, t=13', 'Z_0, t=13', 'Y_3, t=13', 'Y_2, t=13', 'Y_7, t=13', 'Z_7, t=13', 'Y_9, t=13', 'Z_9, t=13', 'X_2, t=13', 'X_1, t=13', 'Z_4, t=13', 'Z_1, t=13', 'X_4, t=13', 'Z_2, t=13', 'X_0, t=13', 'X_6, t=13', 'X_7, t=13', 'X_9, t=13', 'Y_6, t=13', 'Z_6, t=13', 'Z_8, t=13', 'Y_1, t=13', 'X_3, t=13', 'Z_5, t=13', 'Z_3, t=14', 'Y_0, t=14', 'Z_0, t=14', 'Y_3, t=14', 'Y_2, t=14', 'Y_7, t=14', 'Z_7, t=14', 'Z_9, t=14', 'X_2, t=14', 'X_8, t=14', 'X_1, t=14', 'Z_4, t=14', 'Z_1, t=14', 'X_4, t=14', 'Z_2, t=14', 'X_0, t=14', 'X_6, t=14', 'X_7, t=14', 'Y_6, t=14', 'Z_6, t=14', 'X_9, t=14', 'Z_8, t=14', 'Y_8, t=14', 'Y_1, t=14', 'X_3, t=14', 'Z_5, t=14', 'Z_3, t=15', 'Y_0, t=15', 'Z_0, t=15', 'Y_3, t=15', 'Y_2, t=15', 'Y_7, t=15', 'Z_7, t=15', 'Z_9, t=15', 'X_2, t=15', 'X_8, t=15', 'X_1, t=15', 'Y_4, t=15', 'Z_4, t=15', 'Z_1, t=15', 'X_4, t=15', 'Z_2, t=15', 'X_0, t=15', 'X_6, t=15', 'X_7, t=15', 'Y_6, t=15', 'Z_6, t=15', 'Z_8, t=15', 'Y_8, t=15', 'Y_1, t=15', 'X_3, t=15', 'Z_5, t=15', 'Z_3, t=16', 'Y_0, t=16', 'Z_0, t=16', 'Y_3, t=16', 'Y_2, t=16', 'Y_7, t=16', 'Z_7, t=16', 'Z_6, t=16', 'X_2, t=16', 'X_8, t=16', 'X_1, t=16', 'Y_4, t=16', 'Z_4, t=16', 'Z_1, t=16', 'X_4, t=16', 'Z_2, t=16', 'X_0, t=16', 'X_7, t=16', 'X_9, t=16', 'Y_9, t=16', 'Z_9, t=16', 'Z_8, t=16', 'Y_8, t=16', 'Y_1, t=16', 'X_3, t=16', 'Z_5, t=16', 'Z_3, t=17', 'Y_0, t=17', 'Z_0, t=17', 'Y_3, t=17', 'Y_2, t=17', 'Y_7, t=17', 'Z_7, t=17', 'Z_6, t=17', 'X_2, t=17', 'X_8, t=17', 'X_1, t=17', 'Y_4, t=17', 'Z_4, t=17', 'X_5, t=17', 'Z_1, t=17', 'Y_5, t=17', 'X_4, t=17', 'Z_2, t=17', 'X_0, t=17', 'X_7, t=17', 'Z_9, t=17', 'Z_8, t=17', 'Y_8, t=17', 'Y_1, t=17', 'X_3, t=17', 'X_9, t=17', 'Z_5, t=17', 'Z_3, t=18', 'Y_0, t=18', 'Z_0, t=18', 'Y_3, t=18', 'Y_2, t=18', 'Y_7, t=18', 'Z_7, t=18', 'Z_6, t=18', 'X_2, t=18', 'X_6, t=18', 'X_8, t=18', 'X_1, t=18', 'Y_4, t=18', 'X_9, t=18', 'Z_4, t=18', 'Y_9, t=18', 'X_5, t=18', 'Z_1, t=18', 'Y_5, t=18', 'X_4, t=18', 'Z_2, t=18', 'Y_6, t=18', 'X_0, t=18', 'X_7, t=18', 'Z_9, t=18', 'Z_8, t=18', 'Y_8, t=18', 'Y_1, t=18', 'X_3, t=18', 'Z_5, t=18', 'Z_3, t=19', 'Y_0, t=19', 'Z_0, t=19', 'Y_3, t=19', 'Y_2, t=19', 'Y_9, t=19', 'Z_9, t=19', 'Z_6, t=19', 'X_2, t=19', 'X_6, t=19', 'X_8, t=19', 'X_1, t=19', 'Y_4, t=19', 'X_7, t=19', 'Z_4, t=19', 'Y_7, t=19', 'X_5, t=19', 'Z_1, t=19', 'Y_5, t=19', 'X_4, t=19', 'Z_2, t=19', 'Y_6, t=19', 'X_0, t=19', 'X_9, t=19', 'Z_7, t=19', 'Z_8, t=19', 'Y_8, t=19', 'Y_1, t=19', 'X_3, t=19', 'Z_5, t=19']\n",
      "0.11833333333333333 of the 600 total error possibilities are \"breaking\"\n"
     ]
    }
   ],
   "source": [
    "breaking_errors = []\n",
    "for state in bad_states:\n",
    "    breaking_errors += single_procedure_error_out_states[state[1]]\n",
    "\n",
    "ok_errors = []\n",
    "for state in good_states:\n",
    "    ok_errors += single_procedure_error_out_states[state[1]]\n",
    "\n",
    "print('Info: qubit %s is the flying qubit' % f)\n",
    "print('This op sequence knits the 2D cluster state:')\n",
    "for t, name in enumerate(reversed(procedure_op_names)):\n",
    "    print('%s, t=%s' % (name ,t))\n",
    "\n",
    "print('These %s errors during procedure do not map'\n",
    "      ' to the target state mod a local pauli, up to a global phase:' % len(breaking_errors))\n",
    "for name, i, t in sorted(breaking_errors, key=lambda s:s[-1]):\n",
    "    print('%s_%s, t=%s' % (name, i, t))\n",
    "\n",
    "print('These %s errors during procedure DO map to \\n'\n",
    "     'the target state mod a local pauli, \\n'\n",
    "      'up to a global phase:' % len(ok_errors))\n",
    "print([\n",
    "    '%s_%s, t=%s' % (name, i, t)\n",
    "    for name, i, t in sorted(ok_errors, key=lambda s:s[-1])\n",
    "])\n",
    "print(\n",
    "    '%s of the %s total error possibilities are \"breaking\"' % (\n",
    "        len(breaking_errors) / float(len(breaking_errors) + len(ok_errors)),\n",
    "        len(breaking_errors) + len(ok_errors)\n",
    "    )\n",
    ")"
   ]
  },
  {
   "cell_type": "code",
   "execution_count": null,
   "metadata": {},
   "outputs": [],
   "source": []
  },
  {
   "cell_type": "code",
   "execution_count": null,
   "metadata": {},
   "outputs": [],
   "source": []
  }
 ],
 "metadata": {
  "kernelspec": {
   "display_name": "Python 3",
   "language": "python",
   "name": "python3"
  },
  "language_info": {
   "codemirror_mode": {
    "name": "ipython",
    "version": 3
   },
   "file_extension": ".py",
   "mimetype": "text/x-python",
   "name": "python",
   "nbconvert_exporter": "python",
   "pygments_lexer": "ipython3",
   "version": "3.6.4"
  }
 },
 "nbformat": 4,
 "nbformat_minor": 2
}
