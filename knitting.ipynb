{
 "cells": [
  {
   "cell_type": "markdown",
   "metadata": {},
   "source": [
    "### Cluster state knitting\n",
    "Let's build some cluster states out of elementary gates."
   ]
  },
  {
   "cell_type": "code",
   "execution_count": 2,
   "metadata": {},
   "outputs": [],
   "source": [
    "%matplotlib inline\n",
    "import numpy as np\n",
    "import qutip as qt\n",
    "import matplotlib\n",
    "import matplotlib.pyplot as plt\n",
    "from functools import reduce\n",
    "import networkx as nx\n",
    "\n",
    "\n",
    "def show_graph(V, E):\n",
    "    G = nx.Graph()\n",
    "    G.graph['dpi'] = 40\n",
    "    G.add_nodes_from(V)\n",
    "    G.add_edges_from(E)\n",
    "    return nx.draw(G, nx.spring_layout(G), labels={i: str(i) for i in V})"
   ]
  },
  {
   "cell_type": "code",
   "execution_count": 3,
   "metadata": {},
   "outputs": [],
   "source": [
    "from qutip.qip.gates import swap\n",
    "\n",
    "X = qt.sigmax()\n",
    "Y = qt.sigmay()\n",
    "Z = qt.sigmaz()\n",
    "CZ = qt.qip.gates.controlled_gate(Z)\n",
    "def cz(i=0, j=1, N=4):\n",
    "    return qt.qip.gates.controlled_gate(\n",
    "        Z, N=N, control=i, target=j\n",
    "    )\n",
    "\n",
    "CNOT = qt.qip.gates.cnot()\n",
    "Id = X**2\n",
    "SZ = CZ * swap()\n",
    "def sz(i=0, j=1, N=4):\n",
    "    return cz(i=i, j=j, N=N) * swap(\n",
    "        N=N, targets=[i, j])\n",
    "\n",
    "ket_0 = qt.Qobj(np.array([1, 0]).reshape((2, 1)))\n",
    "ket_plus = qt.hadamard_transform() * ket_0\n",
    "\n",
    "def graph_state_unitary(n, E):\n",
    "    # n = |V|\n",
    "    # E = [(i, j), ...]\n",
    "    return reduce(\n",
    "        lambda a, b: a*b,\n",
    "        (qt.qip.gates.controlled_gate(\n",
    "            Z, N=n,\n",
    "            control=i, target=j\n",
    "        )\n",
    "        for i, j in E)\n",
    "    )"
   ]
  },
  {
   "cell_type": "markdown",
   "metadata": {},
   "source": [
    "### 1D cluster state generation"
   ]
  },
  {
   "cell_type": "code",
   "execution_count": 4,
   "metadata": {},
   "outputs": [
    {
     "name": "stdout",
     "output_type": "stream",
     "text": [
      "False\n",
      "True\n"
     ]
    },
    {
     "data": {
      "image/png": "[encoded data removed]",
      "text/plain": [
       "<matplotlib.figure.Figure at 0x115c29710>"
      ]
     },
     "metadata": {},
     "output_type": "display_data"
    }
   ],
   "source": [
    "# desired graph edges\n",
    "E = [(0, 1), (1, 2), (2, 3)]\n",
    "show_graph(range(4), E)\n",
    "\n",
    "# initial state\n",
    "Psi = qt.tensor(4*[ket_plus])\n",
    "\n",
    "# cluster-state generation procedure\n",
    "procedure_1D = sz(0, 1) * sz(0, 2) * sz(0, 3)\n",
    "\n",
    "print(procedure_1D == graph_state_unitary(4, E))\n",
    "print(procedure_1D * Psi == graph_state_unitary(4, E) * Psi)"
   ]
  },
  {
   "cell_type": "markdown",
   "metadata": {},
   "source": [
    "^^ \n",
    "the procedure yields the desired state, but does not apply the same unitary operation"
   ]
  },
  {
   "cell_type": "markdown",
   "metadata": {},
   "source": [
    "### 2D cluster state generation"
   ]
  },
  {
   "cell_type": "code",
   "execution_count": 5,
   "metadata": {},
   "outputs": [
    {
     "name": "stdout",
     "output_type": "stream",
     "text": [
      "False\n",
      "True\n"
     ]
    },
    {
     "data": {
      "image/png": "[encoded data removed]",
      "text/plain": [
       "<matplotlib.figure.Figure at 0x115cbd470>"
      ]
     },
     "metadata": {},
     "output_type": "display_data"
    }
   ],
   "source": [
    "# use 5 qubits this time\n",
    "# we will use qubit index 4 as flying qubit\n",
    "N = 5\n",
    "\n",
    "# desired graph edges (square)\n",
    "E = [(0, 1), (1, 2), (2, 3), (3, 0)]\n",
    "show_graph(range(N), E)\n",
    "\n",
    "# initial state\n",
    "Psi = qt.tensor(N*[ket_plus])\n",
    "\n",
    "# cluster-state generation procedure\n",
    "procedure_2D = swap(targets=[4, 3], N=N) * cz(i=4, j=0, N=N) * cz(i=4, j=2, N=N) * \\\n",
    "    swap(targets=[4, 1], N=N) * cz(i=4, j=0, N=N) * cz(i=4, j=2, N=N)\n",
    "\n",
    "print(procedure_2D == graph_state_unitary(5, E))\n",
    "print(procedure_2D * Psi == graph_state_unitary(5, E) * Psi)"
   ]
  },
  {
   "cell_type": "markdown",
   "metadata": {},
   "source": [
    "### 3D cluster state generation"
   ]
  },
  {
   "cell_type": "code",
   "execution_count": 6,
   "metadata": {},
   "outputs": [
    {
     "name": "stdout",
     "output_type": "stream",
     "text": [
      "False\n",
      "False\n"
     ]
    },
    {
     "data": {
      "image/png": "[encoded data removed]",
      "text/plain": [
       "<matplotlib.figure.Figure at 0x115e120f0>"
      ]
     },
     "metadata": {},
     "output_type": "display_data"
    }
   ],
   "source": [
    "N = 9\n",
    "\n",
    "f = 8\n",
    "\n",
    "# desired graph edges (cube)\n",
    "E = [(0, 3),\n",
    " (0, 5),\n",
    " (0, 7),\n",
    " (1, 2),\n",
    " (1, 5),\n",
    " (1, 7),\n",
    " (2, 4),\n",
    " (2, 6),\n",
    " (3, 4),\n",
    " (3, 6),\n",
    " (4, 5),\n",
    " (6, 7)]\n",
    "\n",
    "show_graph(range(N), E)\n",
    "\n",
    "# initial state\n",
    "Psi = qt.tensor(N*[ket_plus])\n",
    "\n",
    "# cluster-state generation procedure\n",
    "# 1, 2, 6, 7\n",
    "lower_square = swap(targets=[f, 6], N=N) * cz(i=f, j=7, N=N) * cz(i=f, j=2, N=N) * \\\n",
    "    swap(targets=[f, 1], N=N) * cz(i=f, j=7, N=N) * cz(i=f, j=2, N=N)\n",
    "# 3 - (6, 4, 0)\n",
    "upper_corner_1 = swap(targets=[f, 3], N=N) * cz(i=f, j=6, N=N) * cz(i=f, j=4, N=N) * \\\n",
    "    cz(i=f, j=0, N=N)\n",
    "\n",
    "# 5 - (1, 4, 0)\n",
    "upper_corner_2 = swap(targets=[f, 5], N=N) * cz(i=f, j=1, N=N) * cz(i=f, j=4, N=N) * \\\n",
    "    cz(i=f, j=0, N=N)\n",
    "\n",
    "# I'm not sure how to connect these last missing edges\n",
    "## 2 - 4\n",
    "# bar_1 = \n",
    "## 0 - 7\n",
    "# bar_2 = \n",
    "\n",
    "procedure_3D = upper_corner_2 * upper_corner_1 * lower_square\n",
    "\n",
    "print(procedure_3D == graph_state_unitary(9, E))\n",
    "print(procedure_3D * Psi == graph_state_unitary(9, E) * Psi)"
   ]
  },
  {
   "cell_type": "code",
   "execution_count": null,
   "metadata": {},
   "outputs": [],
   "source": []
  },
  {
   "cell_type": "code",
   "execution_count": null,
   "metadata": {},
   "outputs": [],
   "source": []
  },
  {
   "cell_type": "code",
   "execution_count": null,
   "metadata": {},
   "outputs": [],
   "source": []
  },
  {
   "cell_type": "code",
   "execution_count": null,
   "metadata": {},
   "outputs": [],
   "source": []
  },
  {
   "cell_type": "code",
   "execution_count": null,
   "metadata": {},
   "outputs": [],
   "source": []
  },
  {
   "cell_type": "code",
   "execution_count": 33,
   "metadata": {},
   "outputs": [
    {
     "data": {
      "text/plain": [
       "<matplotlib.axes._subplots.AxesSubplot at 0x1118295c0>"
      ]
     },
     "execution_count": 33,
     "metadata": {},
     "output_type": "execute_result"
    },
    {
     "data": {
      "image/png": "[encoded data removed]",
      "text/plain": [
       "<matplotlib.figure.Figure at 0x1115d1278>"
      ]
     },
     "metadata": {},
     "output_type": "display_data"
    }
   ],
   "source": [
    "plot_quantum_circuit([(H,q1),(CNOT,q2,q1),(CNOT,q1,q0),(H,q0),\n",
    "                      (M,q0),(M,q1),(CX,q2,q1),(CZ,q2,q0)],\n",
    "                     plot_labels=False)"
   ]
  },
  {
   "cell_type": "code",
   "execution_count": null,
   "metadata": {},
   "outputs": [],
   "source": []
  }
 ],
 "metadata": {
  "kernelspec": {
   "display_name": "Python 3",
   "language": "python",
   "name": "python3"
  },
  "language_info": {
   "codemirror_mode": {
    "name": "ipython",
    "version": 3
   },
   "file_extension": ".py",
   "mimetype": "text/x-python",
   "name": "python",
   "nbconvert_exporter": "python",
   "pygments_lexer": "ipython3",
   "version": "3.6.4"
  }
 },
 "nbformat": 4,
 "nbformat_minor": 2
}
