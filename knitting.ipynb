{
 "cells": [
  {
   "cell_type": "markdown",
   "metadata": {},
   "source": [
    "### Cluster state knitting\n",
    "Let's build some cluster states out of elementary gates."
   ]
  },
  {
   "cell_type": "code",
   "execution_count": 2,
   "metadata": {},
   "outputs": [],
   "source": [
    "%matplotlib inline\n",
    "import numpy as np\n",
    "import qutip as qt\n",
    "import matplotlib\n",
    "import matplotlib.pyplot as plt\n",
    "from functools import reduce\n",
    "import networkx as nx\n",
    "\n",
    "\n",
    "def show_graph(V, E):\n",
    "    G = nx.Graph()\n",
    "    G.graph['dpi'] = 40\n",
    "    G.add_nodes_from(V)\n",
    "    G.add_edges_from(E)\n",
    "    return nx.draw(G, nx.spring_layout(G), labels={i: str(i) for i in V})"
   ]
  },
  {
   "cell_type": "code",
   "execution_count": 3,
   "metadata": {},
   "outputs": [],
   "source": [
    "from qutip.qip.gates import swap\n",
    "\n",
    "X = qt.sigmax()\n",
    "Y = qt.sigmay()\n",
    "Z = qt.sigmaz()\n",
    "CZ = qt.qip.gates.controlled_gate(Z)\n",
    "def cz(i=0, j=1, N=4):\n",
    "    return qt.qip.gates.controlled_gate(\n",
    "        Z, N=N, control=i, target=j\n",
    "    )\n",
    "\n",
    "CNOT = qt.qip.gates.cnot()\n",
    "Id = X**2\n",
    "SZ = CZ * swap()\n",
    "def sz(i=0, j=1, N=4):\n",
    "    return cz(i=i, j=j, N=N) * swap(\n",
    "        N=N, targets=[i, j])\n",
    "\n",
    "ket_0 = qt.Qobj(np.array([1, 0]).reshape((2, 1)))\n",
    "ket_plus = qt.hadamard_transform() * ket_0\n",
    "\n",
    "def graph_state_unitary(n, E):\n",
    "    # n = |V|\n",
    "    # E = [(i, j), ...]\n",
    "    return reduce(\n",
    "        lambda a, b: a*b,\n",
    "        (qt.qip.gates.controlled_gate(\n",
    "            Z, N=n,\n",
    "            control=i, target=j\n",
    "        )\n",
    "        for i, j in E)\n",
    "    )"
   ]
  },
  {
   "cell_type": "markdown",
   "metadata": {},
   "source": [
    "### 1D cluster state generation"
   ]
  },
  {
   "cell_type": "code",
   "execution_count": 4,
   "metadata": {},
   "outputs": [
    {
     "name": "stdout",
     "output_type": "stream",
     "text": [
      "False\n",
      "True\n"
     ]
    },
    {
     "data": {
      "image/png": "[encoded data removed]",
      "text/plain": [
       "<matplotlib.figure.Figure at 0x10c3e70f0>"
      ]
     },
     "metadata": {},
     "output_type": "display_data"
    }
   ],
   "source": [
    "# desired graph edges\n",
    "E = [(0, 1), (1, 2), (2, 3)]\n",
    "show_graph(range(4), E)\n",
    "\n",
    "# initial state\n",
    "Psi = qt.tensor(4*[ket_plus])\n",
    "\n",
    "# cluster-state generation procedure\n",
    "procedure_1D = sz(0, 1) * sz(0, 2) * sz(0, 3)\n",
    "\n",
    "print(procedure_1D == graph_state_unitary(4, E))\n",
    "print(procedure_1D * Psi == graph_state_unitary(4, E) * Psi)"
   ]
  },
  {
   "cell_type": "markdown",
   "metadata": {},
   "source": [
    "^^ \n",
    "the procedure yields the desired state, but does not apply the same unitary operation"
   ]
  },
  {
   "cell_type": "markdown",
   "metadata": {},
   "source": [
    "### 2D cluster state generation"
   ]
  },
  {
   "cell_type": "code",
   "execution_count": 5,
   "metadata": {},
   "outputs": [
    {
     "name": "stdout",
     "output_type": "stream",
     "text": [
      "False\n",
      "True\n"
     ]
    },
    {
     "data": {
      "image/png": "[encoded data removed]",
      "text/plain": [
       "<matplotlib.figure.Figure at 0x10c484668>"
      ]
     },
     "metadata": {},
     "output_type": "display_data"
    }
   ],
   "source": [
    "# use 5 qubits this time\n",
    "# we will use qubit index 4 as flying qubit\n",
    "N = 5\n",
    "\n",
    "# desired graph edges (square)\n",
    "E = [(0, 1), (1, 2), (2, 3), (3, 0)]\n",
    "show_graph(range(N), E)\n",
    "\n",
    "# initial state\n",
    "Psi = qt.tensor(N*[ket_plus])\n",
    "\n",
    "# cluster-state generation procedure\n",
    "procedure_2D = swap(targets=[4, 3], N=N) * cz(i=4, j=0, N=N) * cz(i=4, j=2, N=N) * \\\n",
    "    swap(targets=[4, 1], N=N) * cz(i=4, j=0, N=N) * cz(i=4, j=2, N=N)\n",
    "\n",
    "print(procedure_2D == graph_state_unitary(5, E))\n",
    "print(procedure_2D * Psi == graph_state_unitary(5, E) * Psi)"
   ]
  },
  {
   "cell_type": "markdown",
   "metadata": {},
   "source": [
    "### 3D cluster state generation"
   ]
  },
  {
   "cell_type": "code",
   "execution_count": 6,
   "metadata": {},
   "outputs": [
    {
     "name": "stdout",
     "output_type": "stream",
     "text": [
      "False\n",
      "False\n"
     ]
    },
    {
     "data": {
      "image/png": "[encoded data removed]",
      "text/plain": [
       "<matplotlib.figure.Figure at 0x10c5aea90>"
      ]
     },
     "metadata": {},
     "output_type": "display_data"
    }
   ],
   "source": [
    "N = 9\n",
    "\n",
    "f = 8\n",
    "\n",
    "# desired graph edges (cube)\n",
    "E = [(0, 3),\n",
    " (0, 5),\n",
    " (0, 7),\n",
    " (1, 2),\n",
    " (1, 5),\n",
    " (1, 7),\n",
    " (2, 4),\n",
    " (2, 6),\n",
    " (3, 4),\n",
    " (3, 6),\n",
    " (4, 5),\n",
    " (6, 7)]\n",
    "\n",
    "show_graph(range(N), E)\n",
    "\n",
    "# initial state\n",
    "Psi = qt.tensor(N*[ket_plus])\n",
    "\n",
    "# cluster-state generation procedure\n",
    "# 1, 2, 6, 7\n",
    "lower_square = swap(targets=[f, 6], N=N) * cz(i=f, j=7, N=N) * cz(i=f, j=2, N=N) * \\\n",
    "    swap(targets=[f, 1], N=N) * cz(i=f, j=7, N=N) * cz(i=f, j=2, N=N)\n",
    "# 3 - (6, 4, 0)\n",
    "upper_corner_1 = swap(targets=[f, 3], N=N) * cz(i=f, j=6, N=N) * cz(i=f, j=4, N=N) * \\\n",
    "    cz(i=f, j=0, N=N)\n",
    "\n",
    "# 5 - (1, 4, 0)\n",
    "upper_corner_2 = swap(targets=[f, 5], N=N) * cz(i=f, j=1, N=N) * cz(i=f, j=4, N=N) * \\\n",
    "    cz(i=f, j=0, N=N)\n",
    "\n",
    "# I'm not sure how to connect these last missing edges\n",
    "## 2 - 4\n",
    "# bar_1 = \n",
    "## 0 - 7\n",
    "# bar_2 = \n",
    "\n",
    "procedure_3D = upper_corner_2 * upper_corner_1 * lower_square\n",
    "\n",
    "print(procedure_3D == graph_state_unitary(9, E))\n",
    "print(procedure_3D * Psi == graph_state_unitary(9, E) * Psi)"
   ]
  },
  {
   "cell_type": "markdown",
   "metadata": {},
   "source": [
    "### Error propagation in the 2D cluster state procedure"
   ]
  },
  {
   "cell_type": "code",
   "execution_count": 31,
   "metadata": {},
   "outputs": [
    {
     "name": "stdout",
     "output_type": "stream",
     "text": [
      "True\n",
      "False\n",
      "False\n"
     ]
    },
    {
     "data": {
      "image/png": "[encoded data removed]",
      "text/plain": [
       "<matplotlib.figure.Figure at 0x10d030e10>"
      ]
     },
     "metadata": {},
     "output_type": "display_data"
    }
   ],
   "source": [
    "N = 5\n",
    "# flying qubit index\n",
    "f = 4\n",
    "\n",
    "# desired graph edges (square)\n",
    "E = [(0, 1), (1, 2), (2, 3), (3, 0)]\n",
    "show_graph(range(N), E)\n",
    "\n",
    "# initial state\n",
    "Psi = qt.tensor(N*[ket_plus])\n",
    "\n",
    "\n",
    "e = qt.tensor([X if i == f else Id for i in range(N)])\n",
    "\n",
    "# cluster-state generation procedure\n",
    "procedure_2D_error = swap(targets=[f, 3], N=N) * cz(i=f, j=0, N=N) * cz(i=f, j=2, N=N) * \\\n",
    "    swap(targets=[f, 1], N=N) * \\\n",
    "    e * \\\n",
    "    cz(i=f, j=0, N=N) * cz(i=f, j=2, N=N)\n",
    "\n",
    "X3 = qt.tensor([X if i == 3 else Id for i in range(N)])\n",
    "\n",
    "print(X3 * procedure_2D_error * Psi == graph_state_unitary(N, E) * Psi)\n",
    "print(X3 * procedure_2D_error == procedure_2D)\n",
    "print(X3 * procedure_2D_error == graph_state_unitary(N, E))"
   ]
  },
  {
   "cell_type": "markdown",
   "metadata": {},
   "source": [
    "- Error $\\sigma_x$ on $f$ just before its first SWAP(f, 3) just amounts to a X on 3.\n",
    "- This is unsurprising -- more interesting case is when 3 then continues the pattern\n",
    "\n",
    "### Knitting a larger 2D cluster state with X error:"
   ]
  },
  {
   "cell_type": "code",
   "execution_count": 77,
   "metadata": {},
   "outputs": [
    {
     "name": "stdout",
     "output_type": "stream",
     "text": [
      "True\n",
      "False\n",
      "True\n"
     ]
    },
    {
     "data": {
      "image/png": "[encoded data removed]",
      "text/plain": [
       "<matplotlib.figure.Figure at 0x10ca2b9b0>"
      ]
     },
     "metadata": {},
     "output_type": "display_data"
    }
   ],
   "source": [
    "N = 10\n",
    "# flying qubit index\n",
    "f = 9\n",
    "\n",
    "E = [(0, 1), (0, 2), (1, 3), (4, 2),\n",
    "     (3, 5), (5, 7), (7, 6),\n",
    "     (6, 4),\n",
    "     (2, 8), (8, 1), (8, 5), (8, 6)]\n",
    "\n",
    "show_graph(range(N), E)\n",
    "\n",
    "# initial state\n",
    "Psi = qt.tensor(N*[ket_plus])\n",
    "\n",
    "\n",
    "e = qt.tensor([X if i == f else Id for i in range(N)])\n",
    "\n",
    "knit = lambda i, j, k: swap(targets=[f, j], N=N) * cz(i=f, j=i, N=N) * cz(i=f, j=k, N=N)\n",
    "procedure = knit(6, 7, 5) * knit(4, 6, 8) * knit(3, 5, 8) * knit(2, 8, 1) *\\\n",
    "    knit(2, 0, 1) *\\\n",
    "    swap(targets=[3, f], N=N) * cz(f, 1, N) *\\\n",
    "    swap(targets=[4, f], N=N) * cz(f, 2, N)\n",
    "\n",
    "print(procedure * Psi == graph_state_unitary(N, E) * Psi)\n",
    "\n",
    "X8 = qt.tensor([X if i == 8 else Id for i in range(N)])\n",
    "procedure_with_error = knit(6, 7, 5) * knit(4, 6, 8) * knit(3, 5, 8) *\\\n",
    "    X8 *\\\n",
    "    knit(2, 8, 1) *\\\n",
    "    knit(2, 0, 1) *\\\n",
    "    swap(targets=[3, f], N=N) * cz(f, 1, N) *\\\n",
    "    swap(targets=[4, f], N=N) * cz(f, 2, N)\n",
    "\n",
    "print(procedure_with_error * Psi == graph_state_unitary(N, E) * Psi)\n",
    "X0 = qt.tensor([X if i == 0 else Id for i in range(N)])\n",
    "print(X0 * procedure_with_error * Psi == graph_state_unitary(N, E) * Psi)"
   ]
  },
  {
   "cell_type": "markdown",
   "metadata": {},
   "source": [
    "#### The $\\sigma_x^{(8)}$ error is propagated to a local $\\sigma_x^{(0)}$ error at the end of the circuit!"
   ]
  },
  {
   "cell_type": "code",
   "execution_count": null,
   "metadata": {},
   "outputs": [],
   "source": []
  },
  {
   "cell_type": "code",
   "execution_count": null,
   "metadata": {},
   "outputs": [],
   "source": []
  }
 ],
 "metadata": {
  "kernelspec": {
   "display_name": "Python 3",
   "language": "python",
   "name": "python3"
  },
  "language_info": {
   "codemirror_mode": {
    "name": "ipython",
    "version": 3
   },
   "file_extension": ".py",
   "mimetype": "text/x-python",
   "name": "python",
   "nbconvert_exporter": "python",
   "pygments_lexer": "ipython3",
   "version": "3.6.4"
  }
 },
 "nbformat": 4,
 "nbformat_minor": 2
}
