{
 "cells": [
  {
   "cell_type": "markdown",
   "metadata": {},
   "source": [
    "# Knitting in 2D\n",
    "\n",
    "Let's play with paulis_2d. Let's first create an instance."
   ]
  },
  {
   "cell_type": "code",
   "execution_count": 2,
   "metadata": {},
   "outputs": [],
   "source": [
    "from error_prop import paulis_2d\n",
    "\n",
    "grid = paulis_2d(15,10)"
   ]
  },
  {
   "cell_type": "code",
   "execution_count": 3,
   "metadata": {},
   "outputs": [
    {
     "name": "stdout",
     "output_type": "stream",
     "text": [
      "Pauli operator on a 15 x 10 grid:\n",
      "Flying qubit: I.\n",
      "I I I I I I I I I I I I I I I \n",
      "I I I I I I I I I I I I I I I \n",
      "I I I I I I I I I I I I I I I \n",
      "I I I I I I I I I I I I I I I \n",
      "I I I I I I I I I I I I I I I \n",
      "I I I I I I I I I I I I I I I \n",
      "I I I I I I I I I I I I I I I \n",
      "I I I I I I I I I I I I I I I \n",
      "I I I I I I I I I I I I I I I \n",
      "I I I I I I I I I I I I I I I \n",
      "\n"
     ]
    }
   ],
   "source": [
    "print(grid)"
   ]
  },
  {
   "cell_type": "markdown",
   "metadata": {},
   "source": [
    "### Creating an error\n",
    "Now we can apply an $X$ error. The $X$ errors can be created by changing .operator[i] from False to True. The range of i is from $0$ to self.lx * self.ly - 1."
   ]
  },
  {
   "cell_type": "code",
   "execution_count": 4,
   "metadata": {},
   "outputs": [
    {
     "data": {
      "text/plain": [
       "Pauli operator on a 15 x 10 grid:\n",
       "Flying qubit: I.\n",
       "I I I I I I I I I I I X I I I \n",
       "I I I I I I I I I I I X I I I \n",
       "I I I I I I I I I I I I I I I \n",
       "I I I I I I I I I I I I I I I \n",
       "I I I I I I I I I I I I I I I \n",
       "I I I I I I I I I I I I I I I \n",
       "I I I I I I I I I I I I I I I \n",
       "I I I I I I I I I I I I I I I \n",
       "I I I I I I I I I I I I I I I \n",
       "I I I I I I I I I I I I I I X "
      ]
     },
     "execution_count": 4,
     "metadata": {},
     "output_type": "execute_result"
    }
   ],
   "source": [
    "grid.operator[11] = True\n",
    "grid.operator[11+15] = True\n",
    "grid.operator[10*15-1] = True\n",
    "grid"
   ]
  },
  {
   "cell_type": "markdown",
   "metadata": {},
   "source": [
    "We can also create $Z$ error. The $Z$ errors can be created by changing .operator[i] from False to True. The range of $i$ is from self.lx * self.ly to 2 * self.lx * self.ly - 1."
   ]
  },
  {
   "cell_type": "code",
   "execution_count": 6,
   "metadata": {},
   "outputs": [
    {
     "data": {
      "text/plain": [
       "Pauli operator on a 15 x 10 grid:\n",
       "Flying qubit: I.\n",
       "Z Z I I I I I I I I I X I I I \n",
       "I I I I I I I I I I I X I I I \n",
       "I I I I I I I I I I I I I I I \n",
       "I I I I I I I I I I I I I I I \n",
       "I I I I I I I I I I I I I I I \n",
       "I I I I I I I I I I I I I I I \n",
       "I I I I I I I I I I I I I I I \n",
       "I I I I I I I I I I I I I I I \n",
       "I I I I I I I I I I I I I I I \n",
       "I I I I I I I I I I I I I I X "
      ]
     },
     "execution_count": 6,
     "metadata": {},
     "output_type": "execute_result"
    }
   ],
   "source": [
    "grid.operator[10*15]= True\n",
    "grid"
   ]
  },
  {
   "cell_type": "markdown",
   "metadata": {},
   "source": [
    "Recall that $X$ and $Z$ error together becomes the $Y$ error."
   ]
  },
  {
   "cell_type": "code",
   "execution_count": 7,
   "metadata": {},
   "outputs": [
    {
     "data": {
      "text/plain": [
       "Pauli operator on a 15 x 10 grid:\n",
       "Flying qubit: I.\n",
       "Z Z I I I I I I I I I Y I I I \n",
       "I I I I I I I I I I I X I I I \n",
       "I I I I I I I I I I I I I I I \n",
       "I I I I I I I I I I I I I I I \n",
       "I I I I I I I I I I I I I I I \n",
       "I I I I I I I I I I I I I I I \n",
       "I I I I I I I I I I I I I I I \n",
       "I I I I I I I I I I I I I I I \n",
       "I I I I I I I I I I I I I I I \n",
       "I I I I I I I I I I I I I I X "
      ]
     },
     "execution_count": 7,
     "metadata": {},
     "output_type": "execute_result"
    }
   ],
   "source": [
    "grid.operator[11+10*15] = True\n",
    "grid"
   ]
  },
  {
   "cell_type": "markdown",
   "metadata": {},
   "source": [
    "Now we can see how this error propagates."
   ]
  },
  {
   "cell_type": "code",
   "execution_count": 8,
   "metadata": {},
   "outputs": [
    {
     "data": {
      "text/plain": [
       "Pauli operator on a 15 x 10 grid:\n",
       "Flying qubit: I.\n",
       "Z Z Z I I I I I I I Z Z X I I \n",
       "I I I I I I I I I I Z Z Y I I \n",
       "I I I I I I I I I I I Z I I I \n",
       "I I I I I I I I I I I I I I I \n",
       "I I I I I I I I I I I I I I I \n",
       "I I I I I I I I I I I I I I I \n",
       "I I I I I I I I I I I I I I I \n",
       "I I I I I I I I I I I I I I I \n",
       "I I I I I I I I I I I I I I I \n",
       "I I I I I I I I I I I I I I I "
      ]
     },
     "execution_count": 8,
     "metadata": {},
     "output_type": "execute_result"
    }
   ],
   "source": [
    "grid.knit_all()\n",
    "grid"
   ]
  },
  {
   "cell_type": "code",
   "execution_count": null,
   "metadata": {},
   "outputs": [],
   "source": []
  }
 ],
 "metadata": {
  "kernelspec": {
   "display_name": "Python 3",
   "language": "python",
   "name": "python3"
  },
  "language_info": {
   "codemirror_mode": {
    "name": "ipython",
    "version": 3
   },
   "file_extension": ".py",
   "mimetype": "text/x-python",
   "name": "python",
   "nbconvert_exporter": "python",
   "pygments_lexer": "ipython3",
   "version": "3.6.5"
  }
 },
 "nbformat": 4,
 "nbformat_minor": 2
}
